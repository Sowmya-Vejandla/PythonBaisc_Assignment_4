{
 "cells": [
  {
   "cell_type": "raw",
   "id": "2ab1bf12",
   "metadata": {},
   "source": [
    "#1. What exactly is []?\n",
    "In Python, [] represent list here it represents an empty list "
   ]
  },
  {
   "cell_type": "code",
   "execution_count": 3,
   "id": "e567bd0d",
   "metadata": {},
   "outputs": [
    {
     "name": "stdout",
     "output_type": "stream",
     "text": [
      "[2, 4, 'hello', 8, 10]\n"
     ]
    }
   ],
   "source": [
    "# 2. In a list of values stored in a variable called spam, how would you assign the value 'hello'; as thethird value? (Assume [2, 4, 6, 8, 10] are in spam.)\n",
    "spam=[2,4,6,8,10]\n",
    "\n",
    "spam[2]='hello'  #by using \n",
    "\n",
    "print(spam)"
   ]
  },
  {
   "cell_type": "code",
   "execution_count": 4,
   "id": "51c962f6",
   "metadata": {},
   "outputs": [
    {
     "data": {
      "text/plain": [
       "'d'"
      ]
     },
     "execution_count": 4,
     "metadata": {},
     "output_type": "execute_result"
    }
   ],
   "source": [
    "# 3. list ['a','b','c', 'd'], what is the value of spam[int(int('3'*2)/11)]?\n",
    "\n",
    "\"\"\"here the spam[int(int('3'*2/11))] will be 'd'\n",
    "\n",
    "(i). '3'*2 =33\n",
    "(ii). int('33')==33\n",
    "(iii).33/11=3\n",
    "therefore, spam[int(int('3'*2)/11)]= spam[3]\n",
    "\n",
    "spam=['a','b,','c','d'] i.e; spam[3]='d'\"\"\"\n",
    "\n",
    "spam=['a','b','c','d']\n",
    "spam[3]"
   ]
  },
  {
   "cell_type": "code",
   "execution_count": 5,
   "id": "f0dd1351",
   "metadata": {},
   "outputs": [
    {
     "data": {
      "text/plain": [
       "'d'"
      ]
     },
     "execution_count": 5,
     "metadata": {},
     "output_type": "execute_result"
    }
   ],
   "source": [
    "#4. What is the value of spam[-1]?\n",
    "\n",
    "\"The value of spam[-1] in spam=['a','b','c','d'] is 'd'\"\n",
    "\n",
    "spam=['a','b','c','d']\n",
    "spam[-1]"
   ]
  },
  {
   "cell_type": "code",
   "execution_count": 6,
   "id": "2e2f40cd",
   "metadata": {},
   "outputs": [
    {
     "data": {
      "text/plain": [
       "['a', 'b']"
      ]
     },
     "execution_count": 6,
     "metadata": {},
     "output_type": "execute_result"
    }
   ],
   "source": [
    "#5. What is the value of spam[:2]?\n",
    "\n",
    "\"The value of spam[:2] in spam=['a','b','c','d'] is ['a','b'] \" #slicing oepration\n",
    "\n",
    "spam=['a','b','c','d']\n",
    "spam[:2]"
   ]
  },
  {
   "cell_type": "code",
   "execution_count": 7,
   "id": "c6f3d759",
   "metadata": {},
   "outputs": [
    {
     "data": {
      "text/plain": [
       "1"
      ]
     },
     "execution_count": 7,
     "metadata": {},
     "output_type": "execute_result"
    }
   ],
   "source": [
    "#6. What is the value of bacon.index('cat')? bacon=[3.14,'cat',11,'cat',True]\n",
    "\n",
    "\"The value of bacon.index('cat') is 1. Even if 'cat' has many times in bacon list but it gives the first index only \"\n",
    "\n",
    "bacon=[3.14,'cat',11,'cat',True]\n",
    "bacon.index('cat')"
   ]
  },
  {
   "cell_type": "code",
   "execution_count": 9,
   "id": "fbab710a",
   "metadata": {},
   "outputs": [
    {
     "data": {
      "text/plain": [
       "[3.14, 'cat', 11, 'cat', True, 99]"
      ]
     },
     "execution_count": 9,
     "metadata": {},
     "output_type": "execute_result"
    }
   ],
   "source": [
    "#7. How does bacon.append(99) change the look of the list value in bacon?\n",
    "\n",
    "\"bacon.append(99) adds the integer value of 99 in the existed list by using append operation \"\n",
    "\n",
    "bacon=[3.14, 'cat', 11, 'cat', True]\n",
    "bacon.append(99)\n",
    "\n",
    "bacon\n"
   ]
  },
  {
   "cell_type": "code",
   "execution_count": 10,
   "id": "1898be54",
   "metadata": {},
   "outputs": [
    {
     "data": {
      "text/plain": [
       "[3.14, 11, 'cat', True, 99]"
      ]
     },
     "execution_count": 10,
     "metadata": {},
     "output_type": "execute_result"
    }
   ],
   "source": [
    "#8. How does bacon.remove('cat') change the look of the list in bacon?\n",
    "\n",
    "\"bacon.remove('cat') removes the first index 'cat' from the existed list\"\n",
    "\n",
    "bacon.remove('cat')\n",
    "bacon"
   ]
  },
  {
   "cell_type": "code",
   "execution_count": 12,
   "id": "1cac2262",
   "metadata": {},
   "outputs": [
    {
     "name": "stdout",
     "output_type": "stream",
     "text": [
      "[1, 2, 3, 4, 5, 6]\n",
      "[1, 2, 3, 1, 2, 3, 1, 2, 3]\n"
     ]
    }
   ],
   "source": [
    "#9. What are the list concatenation and list replication operators?\n",
    "\n",
    "\"In Python, the list concatenation operator is +, and the list replication operator is *.\"\n",
    "\n",
    "#Concatenation (+) operator is used to concatenate two lists and create a new list. \n",
    "\n",
    "list1 = [1, 2, 3]\n",
    "list2 = [4, 5, 6]\n",
    "result = list1 + list2\n",
    "print(result)\n",
    "\n",
    "#replication (*) operator is used to replicate the elements by a given number of times\n",
    "\n",
    "list = [1, 2, 3]\n",
    "replicated_list = list * 3\n",
    "print(replicated_list)\n"
   ]
  },
  {
   "cell_type": "code",
   "execution_count": 14,
   "id": "ad4c7198",
   "metadata": {},
   "outputs": [
    {
     "name": "stdout",
     "output_type": "stream",
     "text": [
      "[1, 2, 3, 4]\n",
      "[1, 4, 2, 3]\n"
     ]
    }
   ],
   "source": [
    "#10. What is difference between the list methods append() and insert()?\n",
    "\n",
    "\"\"\"The append method adds a single element to the end of the list\n",
    "Syntax for append: list.append(element) whereas insert() method adds the element at a specified position in the list\n",
    "Syntax for insert: list.insert(index,element)\"\"\"\n",
    "\n",
    "l = [1, 2, 3] \n",
    "l.append(4) #append\n",
    "print(l)\n",
    "\n",
    "l = [1, 2, 3]\n",
    "l.insert(1, 4)  #at index 1 insert 4\n",
    "print(l)"
   ]
  },
  {
   "cell_type": "raw",
   "id": "daf336ba",
   "metadata": {},
   "source": [
    "11. What are the two methods for removing items from a list?\n",
    "\n",
    "\"\"\"The two methods for removing items from a list are remove() and pop().\n",
    "remove(): The remove() method is used to remove the first occurrence of a element from the list.\n",
    "pop(): The pop() method removes and returns the element at the given index. If no index is given, it removes and returns the last element of the list.\"\"\""
   ]
  },
  {
   "cell_type": "raw",
   "id": "eae57e23",
   "metadata": {},
   "source": [
    "12. Describe how list values and string values are identical.\n",
    "\n",
    "List values and string values in programming have some similarities. They are\n",
    "\n",
    "1. Slicing: Both list and string values can perform slicing operations\n",
    "2. Index: Both lists and string values can be accessed using index values.\n",
    "3. Iteration: Using loops we can iterate both list and string values"
   ]
  },
  {
   "cell_type": "raw",
   "id": "e745ae94",
   "metadata": {},
   "source": [
    "13. What's the difference between tuples and lists?\n",
    "\n",
    "Lists: Lists are mutable, Syntax for lists are square brackets[]. In list we have append, remove, pop,extend etc use cases\n",
    "\n",
    "Tuples: Tuples are immutable. Syntax for tuples are parenthesis(). Whereas in tuple we dont have any use cases"
   ]
  },
  {
   "cell_type": "code",
   "execution_count": 16,
   "id": "a0629de5",
   "metadata": {},
   "outputs": [
    {
     "data": {
      "text/plain": [
       "tuple"
      ]
     },
     "execution_count": 16,
     "metadata": {},
     "output_type": "execute_result"
    }
   ],
   "source": [
    "#14. How do you type a tuple value that only contains the integer 42?\n",
    "\n",
    "#t=(42,0) or t=(42,)\n",
    "\n",
    "t=(42,)\n",
    "type(t)"
   ]
  },
  {
   "cell_type": "raw",
   "id": "2d6a348b",
   "metadata": {},
   "source": [
    "15. How do you get a list value's tuple form? How do you get a tuple value's list form?\n",
    "\n",
    "(i). List values tuple form:\n",
    "\n",
    "l=[1,2,3,4]\n",
    "t=tuple(l)\n",
    "print(t)\n",
    "\n",
    "(ii). Tuple value's list form:\n",
    "\n",
    "t=(1,2,3)\n",
    "l=list(t)\n",
    "print(t)\n"
   ]
  },
  {
   "cell_type": "raw",
   "id": "9be81d65",
   "metadata": {},
   "source": [
    "16. Variables that contain list values are not necessarily lists themselves. Instead, what do they\n",
    "contain?\n",
    "\n",
    "When you assign a list to a variable, we are storing the memory address where the list is located, rather than the actual list data. Variables that \"contain\" list values are often references or pointers to the memory location where the list is stored."
   ]
  },
  {
   "cell_type": "raw",
   "id": "d8e6e108",
   "metadata": {},
   "source": [
    "17. How do you distinguish between copy.copy() and copy.deepcopy()?\n",
    "\n",
    "\n",
    "copy.copy():\n",
    "\n",
    "Creates a new object\n",
    "The outer container is duplicated, but references to the inner objects are retained.\n",
    "Changes made to the inner objects in the copied structure will affect both the original and the copied structures if the inner objects are mutable.\n",
    "\n",
    "copy.deepcopy():\n",
    "\n",
    "Creates a completely independent copy of the original object\n",
    "It recursively copies all the objects referenced by the original structure.\n",
    "Changes made to the inner objects in the copied structure do not affect the original structure.\n",
    "\n"
   ]
  }
 ],
 "metadata": {
  "kernelspec": {
   "display_name": "Python 3 (ipykernel)",
   "language": "python",
   "name": "python3"
  },
  "language_info": {
   "codemirror_mode": {
    "name": "ipython",
    "version": 3
   },
   "file_extension": ".py",
   "mimetype": "text/x-python",
   "name": "python",
   "nbconvert_exporter": "python",
   "pygments_lexer": "ipython3",
   "version": "3.11.3"
  }
 },
 "nbformat": 4,
 "nbformat_minor": 5
}
